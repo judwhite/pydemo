{
 "cells": [
  {
   "cell_type": "markdown",
   "metadata": {},
   "source": [
    "\"Hello, world!\" is boring!!!\n",
    "\n",
    "It's 2020 we gotta stop taking ourselves so seriously.\n",
    "\n",
    "I bring you, \"BUTT FART!\"\n",
    "\n",
    "Click the ▶️ button next to the code to run it."
   ]
  },
  {
   "cell_type": "code",
   "execution_count": 1,
   "metadata": {},
   "outputs": [
    {
     "name": "stdout",
     "output_type": "stream",
     "text": [
      "buttfart\n"
     ]
    }
   ],
   "source": [
    "print(\"buttfart\")"
   ]
  },
  {
   "cell_type": "markdown",
   "metadata": {},
   "source": [
    "😂 Why stop at just one?"
   ]
  },
  {
   "cell_type": "code",
   "execution_count": 2,
   "metadata": {},
   "outputs": [
    {
     "name": "stdout",
     "output_type": "stream",
     "text": [
      "buttfart!\n",
      "buttfart!!\n",
      "buttfart!!!\n",
      "buttfart!!!!\n",
      "buttfart!!!!!\n",
      "buttfart!!!!!!\n",
      "buttfart!!!!!!!\n",
      "buttfart!!!!!!!!\n",
      "buttfart!!!!!!!!!\n",
      "buttfart!!!!!!!!!!\n"
     ]
    }
   ],
   "source": [
    "for i in range(1, 11):\n",
    "    print(\"buttfart%s\" % (\"!\" * i))"
   ]
  },
  {
   "cell_type": "markdown",
   "metadata": {},
   "source": [
    "Exclams are cool too, but what if you really want to clear a room?"
   ]
  },
  {
   "cell_type": "code",
   "execution_count": 3,
   "metadata": {},
   "outputs": [
    {
     "name": "stdout",
     "output_type": "stream",
     "text": [
      "buttfart!\n",
      "buttfart!buttfart!\n",
      "buttfart!buttfart!buttfart!\n",
      "buttfart!buttfart!buttfart!buttfart!\n",
      "buttfart!buttfart!buttfart!buttfart!buttfart!\n",
      "buttfart!buttfart!buttfart!buttfart!buttfart!buttfart!\n",
      "buttfart!buttfart!buttfart!buttfart!buttfart!buttfart!buttfart!\n",
      "buttfart!buttfart!buttfart!buttfart!buttfart!buttfart!buttfart!buttfart!\n",
      "buttfart!buttfart!buttfart!buttfart!buttfart!buttfart!buttfart!buttfart!buttfart!\n",
      "buttfart!buttfart!buttfart!buttfart!buttfart!buttfart!buttfart!buttfart!buttfart!buttfart!\n"
     ]
    }
   ],
   "source": [
    "for i in range(1, 11):\n",
    "    print(\"buttfart!\" * i)"
   ]
  },
  {
   "cell_type": "markdown",
   "metadata": {},
   "source": [
    "I have a secret message for you written in Base-64 Encoding.\n",
    "\n",
    "    V2hlbiB5b3UgaGF2ZSB0byBmYXJ0LCByZW1lbWJlciwgaXQncyBiZXR0ZXIgdG8gbG9zZSBhIGZyaWVuZCB0aGFuIGFuIGludGVzdGluZS4=\n",
    "\n",
    "This might look like total nonsense, but it's no problem for a computer to decode.\n",
    "\n",
    "The code below contains the Base-64 encoded message, decodes it, and prints the decoded message. Run it to see the message!"
   ]
  },
  {
   "cell_type": "code",
   "execution_count": null,
   "metadata": {},
   "outputs": [],
   "source": [
    "import base64\n",
    "\n",
    "base64_message = 'V2hlbiB5b3UgaGF2ZSB0byBmYXJ0LCByZW1lbWJlciwgaXQncyBiZXR0ZXIgdG8gbG9zZSBhIGZyaWVuZCB0aGFuIGFuIGludGVzdGluZS4='\n",
    "base64_bytes = base64_message.encode('ascii')\n",
    "message_bytes = base64.b64decode(base64_bytes)\n",
    "message = message_bytes.decode('ascii')\n",
    "\n",
    "print(message)"
   ]
  },
  {
   "cell_type": "markdown",
   "metadata": {},
   "source": [
    "You can read more about Base-64 Encoding on:\n",
    "\n",
    "- Stack Overflow - https://stackoverflow.com/a/201510/\n",
    "- Wikipedia - https://en.wikipedia.org/wiki/Base64#Design\n",
    "\n",
    "The difference between a beginner programmer and an expert programmer is their ability to quickly tell when a Stack Overflow answer isn't very good. Other than that, you're well on your way! Good luck and have fun!"
   ]
  }
 ],
 "metadata": {
  "kernelspec": {
   "display_name": "Python 3",
   "language": "python",
   "name": "python3"
  },
  "language_info": {
   "codemirror_mode": {
    "name": "ipython",
    "version": 3
   },
   "file_extension": ".py",
   "mimetype": "text/x-python",
   "name": "python",
   "nbconvert_exporter": "python",
   "pygments_lexer": "ipython3",
   "version": "3.8.2"
  }
 },
 "nbformat": 4,
 "nbformat_minor": 4
}
